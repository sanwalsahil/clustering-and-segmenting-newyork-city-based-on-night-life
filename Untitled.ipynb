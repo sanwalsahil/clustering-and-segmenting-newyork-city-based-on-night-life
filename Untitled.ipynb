{
 "cells": [
  {
   "cell_type": "markdown",
   "metadata": {},
   "source": [
    "<h1 style=\"text-align:center\">New York City - Segmentation On Basis Of NightLife</h1>"
   ]
  },
  {
   "cell_type": "markdown",
   "metadata": {},
   "source": [
    "## Overview"
   ]
  },
  {
   "cell_type": "markdown",
   "metadata": {},
   "source": [
    "Machine learning allows us to study and analyze the data and reach an inference based on common patterns based on data.\n",
    "\n",
    "Here we use clustering technique of machine learning to do data segmentation based on nightlife in different neighbourhoods of New York City\n",
    "\n",
    "This project aims to create computational models capable of identifying patterns across dataset. We leverage the Foursquare location data and machine learning algorithms to identify most active areas of nighlife in New York city neighbourhoods"
   ]
  },
  {
   "cell_type": "markdown",
   "metadata": {},
   "source": [
    "## Background"
   ]
  },
  {
   "cell_type": "markdown",
   "metadata": {},
   "source": [
    "Nightlife of a city influences various businesses in a city and has a target audience that is growing very fast . Activities that a city has to offer can vary from lounges to night shows to beach bars to cafes all these sectors contribute to the economy and have various interconnected ecosystems within them . Here we study and organise clusters of neighborhoods based on these nighlife activities to study the patterns in data so we can suggest a hotel chain on where they can open their next hotel\n"
   ]
  },
  {
   "cell_type": "markdown",
   "metadata": {},
   "source": [
    "# Problem"
   ]
  },
  {
   "cell_type": "markdown",
   "metadata": {},
   "source": [
    "Cities are composed of various nighlife activities for local residents and tourists alike. A hotel chain firm is planning to expand their business and opena new hotel in New York. \n",
    "\n",
    "Chain is not bothered about the pricing and is focused mostly on nightlife activities in the city since most of their clients are tourists looking for nightlife activities . \n",
    "\n",
    "They aproach us to use machine learning to segment various neighbourhoods based on two basic parameters-\n",
    "\n",
    "a) how many nighlife activities are present in 1km radius of the central location of the neighborhood\n",
    "b) what are the primary nightlife activities in these neighborhoods\n",
    "\n",
    "This project aims to quantify and monitor the state of neighborhoods in a major metropolitan city, New York City, and identify clusters of similar Nighlife activity scenes.\n"
   ]
  },
  {
   "cell_type": "markdown",
   "metadata": {},
   "source": [
    "# Stakeholders"
   ]
  },
  {
   "cell_type": "markdown",
   "metadata": {},
   "source": [
    "Different parties may be interested in a model that is able to quantify neighborhood similarity based on the types of nightlife available. Such a model would be able to inform renters and home buyers who prefer to live where the nightlife is happening that their next home is properly located. Future nighlife activity start-ups can utilize the model to identify neighborhoods lacking nightlife and ensure they are investing in an area that is not saturated. "
   ]
  },
  {
   "cell_type": "markdown",
   "metadata": {},
   "source": [
    "# Methodology"
   ]
  },
  {
   "cell_type": "markdown",
   "metadata": {},
   "source": [
    "## Data Sources and Usage"
   ]
  },
  {
   "cell_type": "markdown",
   "metadata": {},
   "source": [
    "There are two datasources used - <br>\n",
    "\n",
    "a) NYU spatial data repository -  I am using the ‘2014 New York City Neighborhood Names’ dataset hosted by NYU’s Spatial Data Repository as the basis for the neighborhood names and associated location centroids . This data will give us details on neighborhoods and there latitude and longitude which will be used to retrieve data from foursquare api\n",
    "\n",
    "b)Foursquare -‘Places API’: I will be using Foursquare’s ‘Places API’ to acquire data related to ‘venues’ (as defined by Foursquare) categorized to be somehow associated with nightlife.Each Foursquare ‘venue’ is assigned a ‘category’ and each ‘category’ is associated with a particular ‘categoryID’."
   ]
  }
 ],
 "metadata": {
  "kernelspec": {
   "display_name": "Python 3",
   "language": "python",
   "name": "python3"
  },
  "language_info": {
   "codemirror_mode": {
    "name": "ipython",
    "version": 3
   },
   "file_extension": ".py",
   "mimetype": "text/x-python",
   "name": "python",
   "nbconvert_exporter": "python",
   "pygments_lexer": "ipython3",
   "version": "3.7.4"
  }
 },
 "nbformat": 4,
 "nbformat_minor": 2
}
